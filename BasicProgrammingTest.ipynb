{
 "cells": [
  {
   "cell_type": "markdown",
   "metadata": {},
   "source": [
    "# 問題1\n",
    "下のコードエリアにあるプログラムは、このままではエラーになります。\n",
    "足し算ではなく、文字列として連結するように修正をしてください。\n",
    "\n",
    "#### 期待する出力値\n",
    "0123456789"
   ]
  },
  {
   "cell_type": "code",
   "execution_count": null,
   "metadata": {
    "collapsed": true
   },
   "outputs": [],
   "source": [
    "a = \"01234\"\n",
    "b = 56789\n",
    "print(a + b)"
   ]
  },
  {
   "cell_type": "markdown",
   "metadata": {},
   "source": [
    "# 問題2\n",
    "下のコードは、実行するたびに、1から5までの数値をランダムに生成して、\n",
    "順位として表示します。ここにif文を追加して、1位の時には「おめでとう」と\n",
    "表示し、2位から5位のときには「あと少し」と表示するようにしてください。"
   ]
  },
  {
   "cell_type": "code",
   "execution_count": null,
   "metadata": {
    "collapsed": true
   },
   "outputs": [],
   "source": [
    "import random\n",
    "number = random.randint(1,5)\n",
    "print(\"あなたの順位は\" + str(number) + \"位です\")\n",
    "# ここにif文を追加する\n"
   ]
  },
  {
   "cell_type": "markdown",
   "metadata": {},
   "source": [
    "# 問題3\n",
    "下のコードエリアのプログラムをもとに、プログラムを完成させてください。\n",
    "\n",
    "omikuji の中には、1~100までの数字がランダムで\n",
    "代入されます。\n",
    "\n",
    "omikuji の数字が30~100の時は「omikujiの中身は○○なので大吉」と表示、\n",
    "omikuji の数字が29以下の時は「omikujiの中身は○○なので大凶」と表示する。\n",
    "例）omikujiの中身は32なので大吉"
   ]
  },
  {
   "cell_type": "code",
   "execution_count": null,
   "metadata": {
    "collapsed": true
   },
   "outputs": [],
   "source": [
    "import random\n",
    "omikuji = random.randint(1, 100)\n",
    "\n",
    "if 条件式:\n",
    "    print(\"omikujiの中身は\" + str(omikuji) + \"なので大吉\")\n",
    "else:\n",
    "    print(\"omikujiの中身は\" + str(omikuji) + \"なので大凶\")"
   ]
  },
  {
   "cell_type": "markdown",
   "metadata": {},
   "source": [
    "# 問題4\n",
    "for in命令を使って、1月から12月まで、一行ずつ表示する出力するプログラムを作成してください。\n",
    "\n",
    "#### 期待する出力値\n",
    "1月<br>\n",
    "2月<br>\n",
    "3月<br>\n",
    "4月<br>\n",
    "5月<br>\n",
    "6月<br>\n",
    "7月<br>\n",
    "8月<br>\n",
    "9月<br>\n",
    "10月<br>\n",
    "11月<br>\n",
    "12月<br>"
   ]
  },
  {
   "cell_type": "code",
   "execution_count": null,
   "metadata": {
    "collapsed": true
   },
   "outputs": [],
   "source": []
  },
  {
   "cell_type": "markdown",
   "metadata": {},
   "source": [
    "# 問題5\n",
    "whileを使って、5から1まで、数値を一行ずつカウントダウン表示するプログラムを作成してください。\n",
    "\n",
    "#### 期待する出力値\n",
    "5<br>\n",
    "4<br>\n",
    "3<br>\n",
    "2<br>\n",
    "1<br>"
   ]
  },
  {
   "cell_type": "code",
   "execution_count": null,
   "metadata": {
    "collapsed": true
   },
   "outputs": [],
   "source": []
  },
  {
   "cell_type": "markdown",
   "metadata": {},
   "source": [
    "# 問題6\n",
    "２つの数字を引数とし，その和を返値として返す関数を記述し，その関数を用いて 3と5の和を計算せよ．また，100と200の和も計算せよ．"
   ]
  },
  {
   "cell_type": "code",
   "execution_count": null,
   "metadata": {
    "collapsed": true
   },
   "outputs": [],
   "source": []
  },
  {
   "cell_type": "markdown",
   "metadata": {},
   "source": [
    "# 問題7\n",
    "西暦年と昭和年の対応表を作成してください。対応表は、「西暦XXXX年は昭和YY年です」と表示します。なお、昭和年は、西暦1926年から西暦1988年までの期間で、「西暦年 - 1925」で求めることができます。\n",
    "\n",
    "#### 期待する出力値\n",
    "西暦1926年は昭和1年です<br>\n",
    "西暦1927年は昭和2年です<br>\n",
    "西暦1928年は昭和3年です<br>\n",
    "...<br>\n",
    "西暦1988年は昭和63年です<br>"
   ]
  },
  {
   "cell_type": "code",
   "execution_count": null,
   "metadata": {
    "collapsed": true
   },
   "outputs": [],
   "source": []
  },
  {
   "cell_type": "markdown",
   "metadata": {},
   "source": [
    "# 問題8\n",
    "下のコードエリアには、4つの要素を持つweaponリストが定義されています。\n",
    "このリストの3番の要素を、「石斧」に書き換えてください。\n",
    "\n",
    "#### 期待する出力値\n",
    "['木の棒', '鉄の棒', '鉄の剣', '石斧']"
   ]
  },
  {
   "cell_type": "code",
   "execution_count": null,
   "metadata": {
    "collapsed": true
   },
   "outputs": [],
   "source": [
    "weapon = [\"木の棒\", \"鉄の棒\", \"鉄の剣\", \"サビた剣\"]\n",
    "# ここに、要素を上書きするコードを記述する\n",
    "\n",
    "\n",
    "print(weapon)"
   ]
  },
  {
   "cell_type": "markdown",
   "metadata": {},
   "source": [
    "# 問題9\n",
    "下のコードには、RPGの敵が、enemyリストで定義されています。\n",
    "このリストから要素を順に取り出して、「＊＊が現れた！」と出力してください。\n",
    "\n",
    "#### 期待する出力値\n",
    "スライムが現れた！<br>\n",
    "モンスターが現れた！<br>\n",
    "ゾンビが現れた！<br>\n",
    "ドラゴンが現れた！<br>\n",
    "魔王が現れた！<br>"
   ]
  },
  {
   "cell_type": "code",
   "execution_count": null,
   "metadata": {
    "collapsed": true
   },
   "outputs": [],
   "source": [
    "enemy = [\"スライム\", \"モンスター\", \"ゾンビ\", \"ドラゴン\", \"魔王\"]\n",
    "# ここに、要素をループで表示するコードを記述する\n"
   ]
  },
  {
   "cell_type": "markdown",
   "metadata": {},
   "source": [
    "# 問題10\n",
    "下のコードでは、ある英文がsという文字列に代入されています。\n",
    "この文字列を、split関数を使って、スペースのところで分割して、単語の数を出力してください。"
   ]
  },
  {
   "cell_type": "code",
   "execution_count": null,
   "metadata": {
    "collapsed": true
   },
   "outputs": [],
   "source": [
    "s = \"One cold rainy day when my father was a little boy he met an old alley cat on his street\"\n"
   ]
  },
  {
   "cell_type": "markdown",
   "metadata": {},
   "source": [
    "# 問題11\n",
    "下のコードには、basketリストが定義されています。\n",
    "このリストのエクスカリバーを、「石斧」に書き換えてください。\n",
    "\n",
    "#### 期待する出力値\n",
    "[[\"木の棒\", \"こん棒\", \"石斧\"], [\"おにぎり\", \"おにぎり\", \"むぎ茶\"], [\"毒消し\", \"薬草\", \"アイアンシールド\"]]"
   ]
  },
  {
   "cell_type": "code",
   "execution_count": null,
   "metadata": {
    "collapsed": true
   },
   "outputs": [],
   "source": [
    "basket = [[\"木の棒\", \"こん棒\", \"エクスカリバー\"], [\"おにぎり\", \"おにぎり\", \"むぎ茶\"], [\"毒消し\", \"薬草\", \"アイアンシールド\"]]\n",
    "# ここに、要素を更新するコードを記述する\n",
    "\n",
    "print(basket)"
   ]
  },
  {
   "cell_type": "markdown",
   "metadata": {},
   "source": [
    "# 問題12\n",
    "下のコードには、multiply関数を呼び出していますが、関数の処理が記述してありません。\n",
    "xとyの二つの引数を掛け算した結果を返すよう、関数にコードを追加してください。\n",
    "\n",
    "#### 期待する出力値\n",
    "12<br>\n",
    "35<br>\n",
    "408<br>"
   ]
  },
  {
   "cell_type": "code",
   "execution_count": null,
   "metadata": {
    "collapsed": true
   },
   "outputs": [],
   "source": [
    "def multiply(x, y):\n",
    "    # この下に処理を記述する\n",
    "    \n",
    "    return\n",
    "\n",
    "print(multiply(3, 4))\n",
    "print(multiply(5, 7))\n",
    "print(multiply(12, 34))"
   ]
  },
  {
   "cell_type": "markdown",
   "metadata": {},
   "source": [
    "# 問題13\n",
    "3つの整数を引数として渡すと，その積を返す関数を記述せよ．その関数を用いて，$2*5*7$ と $123*456*234$ を計算してください。"
   ]
  },
  {
   "cell_type": "code",
   "execution_count": null,
   "metadata": {
    "collapsed": true
   },
   "outputs": [],
   "source": []
  },
  {
   "cell_type": "markdown",
   "metadata": {},
   "source": [
    "# 問題14\n",
    "10から1までの数字の2乗を順に出力するプログラムをfor文を使って作成せよ"
   ]
  },
  {
   "cell_type": "code",
   "execution_count": null,
   "metadata": {
    "collapsed": true
   },
   "outputs": [],
   "source": []
  },
  {
   "cell_type": "markdown",
   "metadata": {},
   "source": [
    "# 問題15\n",
    "　＃＃＃＃＃＃＃＃＃＃　1個の空白と10個の#を表示\n",
    "\n",
    "　　＃＃＃＃＃＃＃＃　　2個の空白と8個の#を表示\n",
    "\n",
    "　　　＃＃＃＃＃＃　　　3個の空白と6個の#を表示\n",
    "\n",
    "　　　　＃＃＃＃　　　　4個の空白と4個の#を表示\n",
    "\n",
    "　　　　　＃＃　　　　　5個の空白と2個の#を表示 \n",
    "  \n",
    "上のような#で作った三角形を表示するプログラムを作成せよ．　"
   ]
  },
  {
   "cell_type": "code",
   "execution_count": null,
   "metadata": {
    "collapsed": true
   },
   "outputs": [],
   "source": []
  },
  {
   "cell_type": "markdown",
   "metadata": {},
   "source": [
    "# 問題16\n",
    "下のコードにて、Greetingクラスに、メッセージを表示するsay_helloメソッドが定義されています。\n",
    "このクラスからオブジェクトを作成して、say_helloメソッドを呼び出し、メッセージを表示してください。\n",
    "\n",
    "#### 期待する出力値\n",
    "hello paiza"
   ]
  },
  {
   "cell_type": "code",
   "execution_count": null,
   "metadata": {
    "collapsed": true
   },
   "outputs": [],
   "source": [
    "class Greeting:\n",
    "    def say_hello(self):\n",
    "        print(\"hello paiza\")\n",
    "\n",
    "# この下に、必要なコードを追加してください\n"
   ]
  },
  {
   "cell_type": "markdown",
   "metadata": {},
   "source": [
    "# 問題17\n",
    "右のコードには、skillsという辞書が定義されています。\n",
    "この辞書の値をループを使って出力してください。\n",
    "このとき、辞書の各要素を以下の形式で出力します。\n",
    "\n",
    "\"キー\"は\"値\"です\n",
    "#### 期待する出力値\n",
    "職業は戦士です<br>\n",
    "体力は100です<br>\n",
    "魔法力は200です<br>\n",
    "ゴールドは380です"
   ]
  },
  {
   "cell_type": "code",
   "execution_count": null,
   "metadata": {
    "collapsed": true
   },
   "outputs": [],
   "source": [
    "skills = {\"職業\" : \"戦士\", \"体力\" : 100, \"魔法力\" : 200, \"ゴールド\" : 380}\n",
    "# この下で、ハッシュの値をループで出力してみよう\n"
   ]
  },
  {
   "cell_type": "markdown",
   "metadata": {},
   "source": [
    "## 問題18\n",
    "\n",
    "$n$ の階乗 $n!$ は\n",
    "\n",
    "$\n",
    "1! =1 \\\\\n",
    "n!= n \\times (n-1)! \n",
    "$\n",
    "\n",
    "と再帰的に定義されます．$n!$ を再帰的に計算する関数 Factorial(n) を記述し，$5!$ を計算しなさい．\n"
   ]
  },
  {
   "cell_type": "code",
   "execution_count": null,
   "metadata": {
    "collapsed": true
   },
   "outputs": [],
   "source": []
  },
  {
   "cell_type": "markdown",
   "metadata": {},
   "source": [
    "## 問題19\n",
    "下のセルには、「A」という文字が、leter_Aという2次元リストで定義されています。\n",
    "このリストから要素を順に取り出して、ドットで文字を出力してください。\n",
    "この時、要素が1だったら「@」(半角アットマーク)、ゼロだったら「 」(半角スペース)を出力します。\n",
    "\n",
    "### 期待する出力値\n",
    "\n",
    "<pre>\n",
    "  @@  \n",
    " @  @\n",
    "@    @\n",
    "@@@@@@\n",
    "@    @\n",
    "@    @\n",
    "</pre>"
   ]
  },
  {
   "cell_type": "code",
   "execution_count": null,
   "metadata": {
    "collapsed": true
   },
   "outputs": [],
   "source": [
    "# ドットで文字を出力しよう\n",
    "\n",
    "letter_A = [[0,0,1,1,0,0],\n",
    "            [0,1,0,0,1,0],\n",
    "            [1,0,0,0,0,1],\n",
    "            [1,1,1,1,1,1],\n",
    "            [1,0,0,0,0,1],\n",
    "            [1,0,0,0,0,1]]\n",
    "\n",
    "# ここに、ドットを表示するコードを記述する\n",
    "\n",
    "            print(\"@\")\n",
    "            print(\" \")\n",
    "            print(\"\")\n"
   ]
  },
  {
   "cell_type": "markdown",
   "metadata": {},
   "source": [
    "# 問題20\n",
    "\n",
    "身長と体重の2つの属性をもつHumanクラスを作成してください．\n",
    "\n",
    "その後に，「体重/身長の2乗」で定義されるボディマス指数を計算するメソッド bmi を追加してください．\n",
    "（ただし，体重はキログラム，身長はメートルで入れます．）\n",
    "\n",
    "次に，以下の表に基づいて，痩せ型から肥満(4度）までのいずれに属するかを文字列として返すメソッド am_i_fat を追加してください． \n",
    "\n",
    "                     BMI値\n",
    "    痩せ型     \t18.5未満\n",
    "    普通体重\t   18.5以上、25未満\n",
    "    肥満（1度）\t25以上、30未満\n",
    "    肥満（2度）\t30以上、35未満\n",
    "    肥満（3度）\t35以上、40未満\n",
    "    肥満（4度）\t40以上\n",
    "    \n",
    "自分の身長と体重（公表するのが嫌な場合には，友人の身長と体重）を属性としたHumanのインスタンス me を作成して，am_i_fatを呼んでみましょう．\n",
    "\n"
   ]
  },
  {
   "cell_type": "code",
   "execution_count": null,
   "metadata": {
    "collapsed": true
   },
   "outputs": [],
   "source": []
  }
 ],
 "metadata": {
  "kernelspec": {
   "display_name": "Python 3",
   "language": "python",
   "name": "python3"
  },
  "language_info": {
   "codemirror_mode": {
    "name": "ipython",
    "version": 3
   },
   "file_extension": ".py",
   "mimetype": "text/x-python",
   "name": "python",
   "nbconvert_exporter": "python",
   "pygments_lexer": "ipython3",
   "version": "3.6.8"
  }
 },
 "nbformat": 4,
 "nbformat_minor": 2
}
